{
 "cells": [
  {
   "cell_type": "markdown",
   "metadata": {},
   "source": [
    "# Criterion 1 Terror Attack\n",
    "The violent act must be aimed at attaining a political, economic, religious, or social goal. \n",
    "This criterion is not satisfied in those cases where the perpetrator(s) acted out of a pure profit motive or from an idiosyncratic personal motive unconnected with broader societal change. "
   ]
  },
  {
   "cell_type": "markdown",
   "metadata": {},
   "source": [
    "## Null Hypothesis\n",
    "On average, equal number of successful `Criterion 1` terror attacks happen in India and United States per year.\n"
   ]
  },
  {
   "cell_type": "code",
   "execution_count": 1,
   "metadata": {},
   "outputs": [],
   "source": [
    "import pandas as pd\n",
    "import pandasql as pdsql\n",
    "import seaborn as sns\n",
    "import matplotlib.pyplot as plt\n",
    "import scipy\n",
    "\n",
    "import scipy.stats as stats\n",
    "from IPython.display import display"
   ]
  },
  {
   "cell_type": "code",
   "execution_count": 2,
   "metadata": {},
   "outputs": [],
   "source": [
    "dataset = pd.read_csv(\"../Raw Data/globalterrorismdb_0718dist.csv\", encoding=\"ISO-8859-1\", low_memory=False)\n",
    "india_pde_dataset = pd.read_csv(\"../Raw Data/population_density_india.csv\")\n",
    "usa_pde_dataset = pd.read_csv(\"../Raw Data/population_density_usa.csv\")"
   ]
  },
  {
   "cell_type": "code",
   "execution_count": 3,
   "metadata": {},
   "outputs": [
    {
     "data": {
      "text/html": [
       "<div>\n",
       "<style scoped>\n",
       "    .dataframe tbody tr th:only-of-type {\n",
       "        vertical-align: middle;\n",
       "    }\n",
       "\n",
       "    .dataframe tbody tr th {\n",
       "        vertical-align: top;\n",
       "    }\n",
       "\n",
       "    .dataframe thead th {\n",
       "        text-align: right;\n",
       "    }\n",
       "</style>\n",
       "<table border=\"1\" class=\"dataframe\">\n",
       "  <thead>\n",
       "    <tr style=\"text-align: right;\">\n",
       "      <th></th>\n",
       "      <th>eventid</th>\n",
       "      <th>iyear</th>\n",
       "      <th>imonth</th>\n",
       "      <th>iday</th>\n",
       "      <th>approxdate</th>\n",
       "      <th>extended</th>\n",
       "      <th>resolution</th>\n",
       "      <th>country</th>\n",
       "      <th>country_txt</th>\n",
       "      <th>region</th>\n",
       "      <th>...</th>\n",
       "      <th>addnotes</th>\n",
       "      <th>scite1</th>\n",
       "      <th>scite2</th>\n",
       "      <th>scite3</th>\n",
       "      <th>dbsource</th>\n",
       "      <th>INT_LOG</th>\n",
       "      <th>INT_IDEO</th>\n",
       "      <th>INT_MISC</th>\n",
       "      <th>INT_ANY</th>\n",
       "      <th>related</th>\n",
       "    </tr>\n",
       "  </thead>\n",
       "  <tbody>\n",
       "    <tr>\n",
       "      <th>0</th>\n",
       "      <td>197000000001</td>\n",
       "      <td>1970</td>\n",
       "      <td>7</td>\n",
       "      <td>2</td>\n",
       "      <td>NaN</td>\n",
       "      <td>0</td>\n",
       "      <td>NaN</td>\n",
       "      <td>58</td>\n",
       "      <td>Dominican Republic</td>\n",
       "      <td>2</td>\n",
       "      <td>...</td>\n",
       "      <td>NaN</td>\n",
       "      <td>NaN</td>\n",
       "      <td>NaN</td>\n",
       "      <td>NaN</td>\n",
       "      <td>PGIS</td>\n",
       "      <td>0</td>\n",
       "      <td>0</td>\n",
       "      <td>0</td>\n",
       "      <td>0</td>\n",
       "      <td>NaN</td>\n",
       "    </tr>\n",
       "    <tr>\n",
       "      <th>1</th>\n",
       "      <td>197000000002</td>\n",
       "      <td>1970</td>\n",
       "      <td>0</td>\n",
       "      <td>0</td>\n",
       "      <td>NaN</td>\n",
       "      <td>0</td>\n",
       "      <td>NaN</td>\n",
       "      <td>130</td>\n",
       "      <td>Mexico</td>\n",
       "      <td>1</td>\n",
       "      <td>...</td>\n",
       "      <td>NaN</td>\n",
       "      <td>NaN</td>\n",
       "      <td>NaN</td>\n",
       "      <td>NaN</td>\n",
       "      <td>PGIS</td>\n",
       "      <td>0</td>\n",
       "      <td>1</td>\n",
       "      <td>1</td>\n",
       "      <td>1</td>\n",
       "      <td>NaN</td>\n",
       "    </tr>\n",
       "    <tr>\n",
       "      <th>2</th>\n",
       "      <td>197001000001</td>\n",
       "      <td>1970</td>\n",
       "      <td>1</td>\n",
       "      <td>0</td>\n",
       "      <td>NaN</td>\n",
       "      <td>0</td>\n",
       "      <td>NaN</td>\n",
       "      <td>160</td>\n",
       "      <td>Philippines</td>\n",
       "      <td>5</td>\n",
       "      <td>...</td>\n",
       "      <td>NaN</td>\n",
       "      <td>NaN</td>\n",
       "      <td>NaN</td>\n",
       "      <td>NaN</td>\n",
       "      <td>PGIS</td>\n",
       "      <td>-9</td>\n",
       "      <td>-9</td>\n",
       "      <td>1</td>\n",
       "      <td>1</td>\n",
       "      <td>NaN</td>\n",
       "    </tr>\n",
       "    <tr>\n",
       "      <th>3</th>\n",
       "      <td>197001000002</td>\n",
       "      <td>1970</td>\n",
       "      <td>1</td>\n",
       "      <td>0</td>\n",
       "      <td>NaN</td>\n",
       "      <td>0</td>\n",
       "      <td>NaN</td>\n",
       "      <td>78</td>\n",
       "      <td>Greece</td>\n",
       "      <td>8</td>\n",
       "      <td>...</td>\n",
       "      <td>NaN</td>\n",
       "      <td>NaN</td>\n",
       "      <td>NaN</td>\n",
       "      <td>NaN</td>\n",
       "      <td>PGIS</td>\n",
       "      <td>-9</td>\n",
       "      <td>-9</td>\n",
       "      <td>1</td>\n",
       "      <td>1</td>\n",
       "      <td>NaN</td>\n",
       "    </tr>\n",
       "    <tr>\n",
       "      <th>4</th>\n",
       "      <td>197001000003</td>\n",
       "      <td>1970</td>\n",
       "      <td>1</td>\n",
       "      <td>0</td>\n",
       "      <td>NaN</td>\n",
       "      <td>0</td>\n",
       "      <td>NaN</td>\n",
       "      <td>101</td>\n",
       "      <td>Japan</td>\n",
       "      <td>4</td>\n",
       "      <td>...</td>\n",
       "      <td>NaN</td>\n",
       "      <td>NaN</td>\n",
       "      <td>NaN</td>\n",
       "      <td>NaN</td>\n",
       "      <td>PGIS</td>\n",
       "      <td>-9</td>\n",
       "      <td>-9</td>\n",
       "      <td>1</td>\n",
       "      <td>1</td>\n",
       "      <td>NaN</td>\n",
       "    </tr>\n",
       "  </tbody>\n",
       "</table>\n",
       "<p>5 rows × 135 columns</p>\n",
       "</div>"
      ],
      "text/plain": [
       "        eventid  iyear  imonth  iday approxdate  extended resolution  country  \\\n",
       "0  197000000001   1970       7     2        NaN         0        NaN       58   \n",
       "1  197000000002   1970       0     0        NaN         0        NaN      130   \n",
       "2  197001000001   1970       1     0        NaN         0        NaN      160   \n",
       "3  197001000002   1970       1     0        NaN         0        NaN       78   \n",
       "4  197001000003   1970       1     0        NaN         0        NaN      101   \n",
       "\n",
       "          country_txt  region  ... addnotes scite1 scite2  scite3  dbsource  \\\n",
       "0  Dominican Republic       2  ...      NaN    NaN    NaN     NaN      PGIS   \n",
       "1              Mexico       1  ...      NaN    NaN    NaN     NaN      PGIS   \n",
       "2         Philippines       5  ...      NaN    NaN    NaN     NaN      PGIS   \n",
       "3              Greece       8  ...      NaN    NaN    NaN     NaN      PGIS   \n",
       "4               Japan       4  ...      NaN    NaN    NaN     NaN      PGIS   \n",
       "\n",
       "   INT_LOG  INT_IDEO INT_MISC INT_ANY  related  \n",
       "0        0         0        0       0      NaN  \n",
       "1        0         1        1       1      NaN  \n",
       "2       -9        -9        1       1      NaN  \n",
       "3       -9        -9        1       1      NaN  \n",
       "4       -9        -9        1       1      NaN  \n",
       "\n",
       "[5 rows x 135 columns]"
      ]
     },
     "execution_count": 3,
     "metadata": {},
     "output_type": "execute_result"
    }
   ],
   "source": [
    "dataset.head()"
   ]
  },
  {
   "cell_type": "markdown",
   "metadata": {},
   "source": [
    "### Important assumptions and points\n",
    "1. It is assumed that the data collected is not biased towards any country / government organization.\n",
    "2. The attacks happened in both the countries are independent of each other.\n",
    "3. Since the population density in both the countries is different, it is possible that biasness is created. Hence we will conduct an analysis where we will consider number of cases in both the countries per year per population density."
   ]
  },
  {
   "cell_type": "code",
   "execution_count": 4,
   "metadata": {},
   "outputs": [],
   "source": [
    "query = \"\"\"\n",
    "    select \n",
    "        iyear, \n",
    "        sum(\n",
    "            case\n",
    "                when country_txt = \"United States\" then 1 else 0\n",
    "            end\n",
    "        ) as usa_cases, \n",
    "        sum(\n",
    "            case\n",
    "                when country_txt = \"India\" then 1 else 0\n",
    "            end\n",
    "        ) as ind_cases\n",
    "    from dataset \n",
    "    where country_txt IN (\"United States\", \"India\") and success=1\n",
    "    group by iyear\n",
    "    having usa_cases > 0 and ind_cases > 0\n",
    "\"\"\"\n",
    "data = pdsql.sqldf(query)"
   ]
  },
  {
   "cell_type": "code",
   "execution_count": 5,
   "metadata": {},
   "outputs": [
    {
     "data": {
      "text/html": [
       "<div>\n",
       "<style scoped>\n",
       "    .dataframe tbody tr th:only-of-type {\n",
       "        vertical-align: middle;\n",
       "    }\n",
       "\n",
       "    .dataframe tbody tr th {\n",
       "        vertical-align: top;\n",
       "    }\n",
       "\n",
       "    .dataframe thead th {\n",
       "        text-align: right;\n",
       "    }\n",
       "</style>\n",
       "<table border=\"1\" class=\"dataframe\">\n",
       "  <thead>\n",
       "    <tr style=\"text-align: right;\">\n",
       "      <th></th>\n",
       "      <th>iyear</th>\n",
       "      <th>usa_cases</th>\n",
       "      <th>ind_cases</th>\n",
       "    </tr>\n",
       "  </thead>\n",
       "  <tbody>\n",
       "    <tr>\n",
       "      <th>0</th>\n",
       "      <td>1972</td>\n",
       "      <td>48</td>\n",
       "      <td>1</td>\n",
       "    </tr>\n",
       "    <tr>\n",
       "      <th>1</th>\n",
       "      <td>1975</td>\n",
       "      <td>136</td>\n",
       "      <td>1</td>\n",
       "    </tr>\n",
       "    <tr>\n",
       "      <th>2</th>\n",
       "      <td>1976</td>\n",
       "      <td>88</td>\n",
       "      <td>1</td>\n",
       "    </tr>\n",
       "    <tr>\n",
       "      <th>3</th>\n",
       "      <td>1977</td>\n",
       "      <td>95</td>\n",
       "      <td>1</td>\n",
       "    </tr>\n",
       "    <tr>\n",
       "      <th>4</th>\n",
       "      <td>1979</td>\n",
       "      <td>54</td>\n",
       "      <td>19</td>\n",
       "    </tr>\n",
       "  </tbody>\n",
       "</table>\n",
       "</div>"
      ],
      "text/plain": [
       "   iyear  usa_cases  ind_cases\n",
       "0   1972         48          1\n",
       "1   1975        136          1\n",
       "2   1976         88          1\n",
       "3   1977         95          1\n",
       "4   1979         54         19"
      ]
     },
     "metadata": {},
     "output_type": "display_data"
    },
    {
     "data": {
      "text/html": [
       "<div>\n",
       "<style scoped>\n",
       "    .dataframe tbody tr th:only-of-type {\n",
       "        vertical-align: middle;\n",
       "    }\n",
       "\n",
       "    .dataframe tbody tr th {\n",
       "        vertical-align: top;\n",
       "    }\n",
       "\n",
       "    .dataframe thead th {\n",
       "        text-align: right;\n",
       "    }\n",
       "</style>\n",
       "<table border=\"1\" class=\"dataframe\">\n",
       "  <thead>\n",
       "    <tr style=\"text-align: right;\">\n",
       "      <th></th>\n",
       "      <th>iyear</th>\n",
       "      <th>usa_cases</th>\n",
       "      <th>ind_cases</th>\n",
       "    </tr>\n",
       "  </thead>\n",
       "  <tbody>\n",
       "    <tr>\n",
       "      <th>count</th>\n",
       "      <td>42.000000</td>\n",
       "      <td>42.000000</td>\n",
       "      <td>42.000000</td>\n",
       "    </tr>\n",
       "    <tr>\n",
       "      <th>mean</th>\n",
       "      <td>1995.928571</td>\n",
       "      <td>36.452381</td>\n",
       "      <td>244.761905</td>\n",
       "    </tr>\n",
       "    <tr>\n",
       "      <th>std</th>\n",
       "      <td>12.939621</td>\n",
       "      <td>26.137724</td>\n",
       "      <td>233.729133</td>\n",
       "    </tr>\n",
       "    <tr>\n",
       "      <th>min</th>\n",
       "      <td>1972.000000</td>\n",
       "      <td>4.000000</td>\n",
       "      <td>1.000000</td>\n",
       "    </tr>\n",
       "    <tr>\n",
       "      <th>25%</th>\n",
       "      <td>1985.250000</td>\n",
       "      <td>21.250000</td>\n",
       "      <td>68.500000</td>\n",
       "    </tr>\n",
       "    <tr>\n",
       "      <th>50%</th>\n",
       "      <td>1996.500000</td>\n",
       "      <td>29.000000</td>\n",
       "      <td>170.000000</td>\n",
       "    </tr>\n",
       "    <tr>\n",
       "      <th>75%</th>\n",
       "      <td>2006.750000</td>\n",
       "      <td>51.000000</td>\n",
       "      <td>335.500000</td>\n",
       "    </tr>\n",
       "    <tr>\n",
       "      <th>max</th>\n",
       "      <td>2017.000000</td>\n",
       "      <td>136.000000</td>\n",
       "      <td>786.000000</td>\n",
       "    </tr>\n",
       "  </tbody>\n",
       "</table>\n",
       "</div>"
      ],
      "text/plain": [
       "             iyear   usa_cases   ind_cases\n",
       "count    42.000000   42.000000   42.000000\n",
       "mean   1995.928571   36.452381  244.761905\n",
       "std      12.939621   26.137724  233.729133\n",
       "min    1972.000000    4.000000    1.000000\n",
       "25%    1985.250000   21.250000   68.500000\n",
       "50%    1996.500000   29.000000  170.000000\n",
       "75%    2006.750000   51.000000  335.500000\n",
       "max    2017.000000  136.000000  786.000000"
      ]
     },
     "metadata": {},
     "output_type": "display_data"
    }
   ],
   "source": [
    "display(data.head())\n",
    "display(data.describe())"
   ]
  },
  {
   "cell_type": "code",
   "execution_count": 6,
   "metadata": {},
   "outputs": [
    {
     "data": {
      "text/plain": [
       "[Text(0.5, 0, 'Year'), Text(0, 0.5, 'Number of Cases'), Text(0.5, 1.0, 'USA')]"
      ]
     },
     "execution_count": 6,
     "metadata": {},
     "output_type": "execute_result"
    },
    {
     "data": {
      "image/png": "[encoded data removed]",
      "text/plain": [
       "<Figure size 2160x576 with 1 Axes>"
      ]
     },
     "metadata": {
      "needs_background": "light"
     },
     "output_type": "display_data"
    },
    {
     "data": {
      "image/png": "[encoded data removed]",
      "text/plain": [
       "<Figure size 2160x576 with 1 Axes>"
      ]
     },
     "metadata": {
      "needs_background": "light"
     },
     "output_type": "display_data"
    }
   ],
   "source": [
    "_, ax1 = plt.subplots(figsize=(30, 8))\n",
    "_, ax2 = plt.subplots(figsize=(30, 8))\n",
    "ind_plot = sns.barplot(x='iyear', y='ind_cases', data=data, ax=ax1)\n",
    "ind_plot.set(ylim=(0, 800))\n",
    "ind_plot.set(xlabel='Year', ylabel='Number of Cases', title='India')\n",
    "usa_plot = sns.barplot(x='iyear', y='usa_cases', data=data, ax=ax2)\n",
    "usa_plot.set(ylim=(0, 800))\n",
    "usa_plot.set(xlabel='Year', ylabel='Number of Cases', title='USA')"
   ]
  },
  {
   "cell_type": "markdown",
   "metadata": {},
   "source": [
    "From the plot we can see that Indian cases on average are more but we <b>cannot</b> conclude this because of many other factors that may be contributing to this.\n",
    "One of which is that the Indian population is more as compared to U.S. \n",
    "Hence, let's visualize the results by normalizing the data by using the population density of both the countries per year."
   ]
  },
  {
   "cell_type": "markdown",
   "metadata": {},
   "source": [
    "## Hypothesis validation \n",
    "We will now validate the hypothesis by normalizing the data using population density.\n",
    "Hence, we will assume that the biasness of the data gets removed to a large extent when we normalize."
   ]
  },
  {
   "cell_type": "code",
   "execution_count": 7,
   "metadata": {},
   "outputs": [],
   "source": [
    "query = \"\"\"\n",
    "    select \n",
    "        iyear as year, \n",
    "        usa_cases / US.pdensity as usa_cases_per_pde, \n",
    "        ind_cases / IND.pdensity as ind_cases_per_pde\n",
    "    from data\n",
    "    inner join india_pde_dataset IND\n",
    "        on IND.Year = data.iyear\n",
    "    inner join usa_pde_dataset US\n",
    "        on US.Year = data.iyear\n",
    "\"\"\"\n",
    "density_data = pdsql.sqldf(query)"
   ]
  },
  {
   "cell_type": "code",
   "execution_count": 8,
   "metadata": {},
   "outputs": [
    {
     "data": {
      "text/html": [
       "<div>\n",
       "<style scoped>\n",
       "    .dataframe tbody tr th:only-of-type {\n",
       "        vertical-align: middle;\n",
       "    }\n",
       "\n",
       "    .dataframe tbody tr th {\n",
       "        vertical-align: top;\n",
       "    }\n",
       "\n",
       "    .dataframe thead th {\n",
       "        text-align: right;\n",
       "    }\n",
       "</style>\n",
       "<table border=\"1\" class=\"dataframe\">\n",
       "  <thead>\n",
       "    <tr style=\"text-align: right;\">\n",
       "      <th></th>\n",
       "      <th>year</th>\n",
       "      <th>usa_cases_per_pde</th>\n",
       "      <th>ind_cases_per_pde</th>\n",
       "    </tr>\n",
       "  </thead>\n",
       "  <tbody>\n",
       "    <tr>\n",
       "      <th>0</th>\n",
       "      <td>1972</td>\n",
       "      <td>2.213001</td>\n",
       "      <td>0.005657</td>\n",
       "    </tr>\n",
       "    <tr>\n",
       "      <th>1</th>\n",
       "      <td>1975</td>\n",
       "      <td>6.104129</td>\n",
       "      <td>0.005276</td>\n",
       "    </tr>\n",
       "    <tr>\n",
       "      <th>2</th>\n",
       "      <td>1976</td>\n",
       "      <td>3.912850</td>\n",
       "      <td>0.005155</td>\n",
       "    </tr>\n",
       "    <tr>\n",
       "      <th>3</th>\n",
       "      <td>1977</td>\n",
       "      <td>4.185022</td>\n",
       "      <td>0.005039</td>\n",
       "    </tr>\n",
       "    <tr>\n",
       "      <th>4</th>\n",
       "      <td>1979</td>\n",
       "      <td>2.335640</td>\n",
       "      <td>0.091447</td>\n",
       "    </tr>\n",
       "  </tbody>\n",
       "</table>\n",
       "</div>"
      ],
      "text/plain": [
       "   year  usa_cases_per_pde  ind_cases_per_pde\n",
       "0  1972           2.213001           0.005657\n",
       "1  1975           6.104129           0.005276\n",
       "2  1976           3.912850           0.005155\n",
       "3  1977           4.185022           0.005039\n",
       "4  1979           2.335640           0.091447"
      ]
     },
     "execution_count": 8,
     "metadata": {},
     "output_type": "execute_result"
    }
   ],
   "source": [
    "density_data.head()"
   ]
  },
  {
   "cell_type": "code",
   "execution_count": 9,
   "metadata": {},
   "outputs": [
    {
     "data": {
      "text/plain": [
       "[Text(0.5, 0, 'Year'),\n",
       " Text(0, 0.5, 'Number of Cases Per Population Density'),\n",
       " Text(0.5, 1.0, 'USA')]"
      ]
     },
     "execution_count": 9,
     "metadata": {},
     "output_type": "execute_result"
    },
    {
     "data": {
      "image/png": "[encoded data removed]",
      "text/plain": [
       "<Figure size 2160x576 with 1 Axes>"
      ]
     },
     "metadata": {
      "needs_background": "light"
     },
     "output_type": "display_data"
    },
    {
     "data": {
      "image/png": "[encoded data removed]",
      "text/plain": [
       "<Figure size 2160x576 with 1 Axes>"
      ]
     },
     "metadata": {
      "needs_background": "light"
     },
     "output_type": "display_data"
    }
   ],
   "source": [
    "_, ax1 = plt.subplots(figsize=(30, 8))\n",
    "_, ax2 = plt.subplots(figsize=(30, 8))\n",
    "ind_plot = sns.barplot(x='year', y='ind_cases_per_pde', data=density_data, ax=ax1)\n",
    "ind_plot.set(ylim=(0, 7))\n",
    "ind_plot.set(xlabel='Year', ylabel='Number of Cases Per Population Density', title='India')\n",
    "usa_plot = sns.barplot(x='year', y='usa_cases_per_pde', data=density_data, ax=ax2)\n",
    "usa_plot.set(ylim=(0, 7))\n",
    "usa_plot.set(xlabel='Year', ylabel='Number of Cases Per Population Density', title='USA')"
   ]
  },
  {
   "cell_type": "code",
   "execution_count": 10,
   "metadata": {},
   "outputs": [
    {
     "data": {
      "text/html": [
       "<div>\n",
       "<style scoped>\n",
       "    .dataframe tbody tr th:only-of-type {\n",
       "        vertical-align: middle;\n",
       "    }\n",
       "\n",
       "    .dataframe tbody tr th {\n",
       "        vertical-align: top;\n",
       "    }\n",
       "\n",
       "    .dataframe thead th {\n",
       "        text-align: right;\n",
       "    }\n",
       "</style>\n",
       "<table border=\"1\" class=\"dataframe\">\n",
       "  <thead>\n",
       "    <tr style=\"text-align: right;\">\n",
       "      <th></th>\n",
       "      <th>usa_cases_per_pde</th>\n",
       "      <th>ind_cases_per_pde</th>\n",
       "    </tr>\n",
       "  </thead>\n",
       "  <tbody>\n",
       "    <tr>\n",
       "      <th>count</th>\n",
       "      <td>42.000000</td>\n",
       "      <td>42.000000</td>\n",
       "    </tr>\n",
       "    <tr>\n",
       "      <th>mean</th>\n",
       "      <td>1.421964</td>\n",
       "      <td>0.720405</td>\n",
       "    </tr>\n",
       "    <tr>\n",
       "      <th>std</th>\n",
       "      <td>1.182182</td>\n",
       "      <td>0.601380</td>\n",
       "    </tr>\n",
       "    <tr>\n",
       "      <th>min</th>\n",
       "      <td>0.132057</td>\n",
       "      <td>0.005039</td>\n",
       "    </tr>\n",
       "    <tr>\n",
       "      <th>25%</th>\n",
       "      <td>0.739570</td>\n",
       "      <td>0.218814</td>\n",
       "    </tr>\n",
       "    <tr>\n",
       "      <th>50%</th>\n",
       "      <td>1.096214</td>\n",
       "      <td>0.562581</td>\n",
       "    </tr>\n",
       "    <tr>\n",
       "      <th>75%</th>\n",
       "      <td>1.794408</td>\n",
       "      <td>1.235649</td>\n",
       "    </tr>\n",
       "    <tr>\n",
       "      <th>max</th>\n",
       "      <td>6.104129</td>\n",
       "      <td>1.930113</td>\n",
       "    </tr>\n",
       "  </tbody>\n",
       "</table>\n",
       "</div>"
      ],
      "text/plain": [
       "       usa_cases_per_pde  ind_cases_per_pde\n",
       "count          42.000000          42.000000\n",
       "mean            1.421964           0.720405\n",
       "std             1.182182           0.601380\n",
       "min             0.132057           0.005039\n",
       "25%             0.739570           0.218814\n",
       "50%             1.096214           0.562581\n",
       "75%             1.794408           1.235649\n",
       "max             6.104129           1.930113"
      ]
     },
     "execution_count": 10,
     "metadata": {},
     "output_type": "execute_result"
    }
   ],
   "source": [
    "density_data.drop(['year'], axis=1).describe()"
   ]
  },
  {
   "cell_type": "markdown",
   "metadata": {},
   "source": [
    "#### Density plots for the density data"
   ]
  },
  {
   "cell_type": "code",
   "execution_count": 11,
   "metadata": {},
   "outputs": [
    {
     "data": {
      "text/plain": [
       "[Text(0.5, 0, 'Cases per population density')]"
      ]
     },
     "execution_count": 11,
     "metadata": {},
     "output_type": "execute_result"
    },
    {
     "data": {
      "image/png": "[encoded data removed]",
      "text/plain": [
       "<Figure size 1728x576 with 1 Axes>"
      ]
     },
     "metadata": {
      "needs_background": "light"
     },
     "output_type": "display_data"
    }
   ],
   "source": [
    "_, ax = plt.subplots(figsize=(24, 8))\n",
    "density_data.plot(x='year', y='ind_cases_per_pde', kind='kde', ax=ax)\n",
    "density_data.plot(x='year', y='usa_cases_per_pde', kind='kde', ax=ax)\n",
    "ax.legend(['India', 'USA'], prop={'size': 20})\n",
    "ax.set(xlabel='Cases per population density')"
   ]
  },
  {
   "cell_type": "markdown",
   "metadata": {},
   "source": [
    "The graph above indicates the nature of density distribution of case densities for both the countries.  We can see that for the sample we have, the mean cases for USA are more and since the plot for United States is more spread out, hence it has a higher standard deviation.\n",
    "\n",
    "Our goal is to figure out whether these two contries have a significant difference in their mean values.\n",
    "\n",
    "We will be conducting `ANOVA` and `Student's t-test` hypothesis tests in order to validate the above statement."
   ]
  },
  {
   "cell_type": "markdown",
   "metadata": {},
   "source": [
    "Let's test our hypothesis by conducting a hypothesis test called ANOVA"
   ]
  },
  {
   "cell_type": "markdown",
   "metadata": {},
   "source": [
    "### Analysis of Variance (ANOVA)\n",
    "Analysis of Variance, shortly known as ANOVA is an extremely important tool for analysis of data. It is a statistical method to compare the population means of two or more groups by analyzing variance. The variance would differ only when the means are significantly different.\n",
    "\n",
    "It is a generalized method of t-test for more than 2 groups but is more conservative, i.e. results in less type 1 error, and hence suited to a wide range of practical applications.\n",
    "\n",
    "Let there be two samples, `Sample A` and `Sample B` where the total data points in both samples are $ n_a $ and $ n_b $ respectively.\n",
    "\n",
    "Let the mean of `Sample A` be $ \\bar{X}_a $ and the same for `Sample B` be $ \\bar{X}_b $.\n",
    "\n",
    "#### Define Null Hypothesis\n",
    "Null Hypothesis: $ \\bar{X}_a = \\bar{X}_b $\n",
    "\n",
    "#### Define significance level\n",
    "Let our level of confidence be equal to 95 %\n",
    "\n",
    "$ \\therefore \\alpha = 0.05 $\n",
    "\n",
    "#### Calculation of the grand mean\n",
    "Let the Grand Mean of the two samples be $ \\bar{X}_{GM} $.\n",
    "\n",
    "$ X_{gm} = \\frac{\\bar{X}_a * n_a + \\bar{X}_b * n_b}{n_a + n_b} $\n",
    "\n",
    "#### Calculation of degrees of freedom\n",
    "$ df_{between} = 2 - 1 = 1 $\n",
    "\n",
    "$ df_{within} = n_a + n_b - 2 = 42 + 42 - 2 = 82 $\n",
    "\n",
    "#### Determination of critical F statistic\n",
    "The $ F_{critical} $ value can be calculated using the `F table` or from this source https://www.socscistatistics.com/tests/criticalvalues/default.aspx\n",
    "\n",
    "Significance Level $ \\alpha $: 0.05\n",
    "\n",
    "Degrees of Freedom (Numerator): $ df_{between} $\n",
    "\n",
    "Degrees of Freedom (Denominator): $ df_{within} $\n",
    "\n",
    "$ \\therefore F_{critical} = 3.957 $\n",
    "#### Calculation of sum of squares\n",
    "$ SS_{total} = \\sum {(X_i - X_{GM}) ^ 2} $ where $ X_i $ is all the possible values in the two samples\n",
    "\n",
    "$ SS_{within} = \\sum \\limits _{i=1} ^ {n_a}{(X_i - \\bar{X}_{a}) ^ 2} + \\sum \\limits _{j=1} ^ {n_b}{(X_j - \\bar{X}_{b}) ^ 2}$\n",
    "\n",
    "We know that $ SS_{total} = SS_{between} + SS_{within} $\n",
    "\n",
    "$ \\therefore SS_{between} = SS_{total} - SS_{within}$\n",
    "\n",
    "#### Calculation of mean squares\n",
    "$ MS_{within} = \\frac{SS_{within}}{df_{within}} $\n",
    "\n",
    "$ MS_{between} = \\frac{SS_{between}}{df_{between}} $\n",
    "\n",
    "#### Calculation of F statistic of dataset\n",
    "$ F = \\frac{MS_{between}}{MS_{within}} $\n",
    "\n",
    "#### Result interpretation\n",
    "If $ F > F_{critical} $, then we reject the null hypothesis.\n",
    "\n",
    "Else, we fail to reject the null"
   ]
  },
  {
   "cell_type": "code",
   "execution_count": 12,
   "metadata": {},
   "outputs": [
    {
     "name": "stdout",
     "output_type": "stream",
     "text": [
      "Critical F value: 3.9573883217679424\n",
      "Obtained F value: 11.750608480607152\n",
      "Obtained P value: 0.0009537103492031754\n"
     ]
    }
   ],
   "source": [
    "fcrit  = scipy.stats.f.ppf(q=1-0.05, dfn=1, dfd=82)\n",
    "fvalue, pvalue = stats.f_oneway(density_data['ind_cases_per_pde'], density_data['usa_cases_per_pde'])\n",
    "print(f'Critical F value: {fcrit}')\n",
    "print(f'Obtained F value: {fvalue}')\n",
    "print(f'Obtained P value: {pvalue}')"
   ]
  },
  {
   "cell_type": "markdown",
   "metadata": {},
   "source": [
    "#### Conclusion on the basis of ANOVA\n",
    "We assumed that no bias gets created after we normalize the data using population density of both the countries.\n",
    "\n",
    "Since, $ F > F_{critical} $\n",
    "\n",
    "$ \\therefore $ <b>We reject the null hypothesis</b>"
   ]
  },
  {
   "cell_type": "markdown",
   "metadata": {},
   "source": [
    "To be very sure on the conclusion we made, let's perform a two-tailed t-test."
   ]
  },
  {
   "cell_type": "markdown",
   "metadata": {},
   "source": [
    "### Student's t-test\n",
    "A `t-test` uses something called a `t-statistic`. \n",
    "A `t-statistic` is a standardized value that is calculated from sample data during a hypothesis test.\n",
    "\n",
    "Let there be two samples, `Sample A` and `Sample B` where the total data points in both samples are $ n_a $ and $ n_b $ respectively.\n",
    "\n",
    "Let the mean of `Sample A` be $ \\bar{X}_a $ and the same for `Sample B` be $ \\bar{X}_b $.\n",
    "\n",
    "#### Define Null Hypothesis\n",
    "Null Hypothesis: $ \\bar{X}_a = \\bar{X}_b $\n",
    "\n",
    "#### Define significance level\n",
    "Let our level of confidence be equal to 95 %\n",
    "\n",
    "$ \\therefore \\alpha = 0.05 $\n",
    "\n",
    "#### Calculation of the t-statistic\n",
    "$ t = \\frac{(\\bar{X}_a - \\bar{X}_b) - \\delta}{\\frac{s_a ^ 2}{n_a} + \\frac{s_b ^ 2}{n_b}} $\n",
    "\n",
    "Where,\n",
    "\n",
    "$ \\delta $: Hypothesized difference between the sample means (0 if testing for equal means).\n",
    "\n",
    "$ s_i ^ 2 $: Standard deviation of the $i^{th}$ sample.\n",
    "\n",
    "#### Calculation of degrees of freedom\n",
    "$ df =  n_a + n _b - 2 $\n",
    "\n",
    "#### Calculation of p value and result interpretation\n",
    "P value can be calculated by looking at the `t-table` or by this source https://www.socscistatistics.com/pvalues/tdistribution.aspx\n",
    "\n",
    "If $ p < \\alpha $, then we reject the null hypothesis.\n",
    "\n",
    "Else, we fail to reject the null."
   ]
  },
  {
   "cell_type": "code",
   "execution_count": 13,
   "metadata": {},
   "outputs": [
    {
     "name": "stdout",
     "output_type": "stream",
     "text": [
      "Degrees of freedom:    82\n",
      "Obtained t statistic:  -16.749262406855987\n",
      "Obtained p value:      3.394491291986574e-28\n"
     ]
    }
   ],
   "source": [
    "ind_mean = density_data['ind_cases_per_pde'].mean()\n",
    "ind_std = density_data['ind_cases_per_pde'].std()\n",
    "usa_mean = density_data['usa_cases_per_pde'].mean()\n",
    "usa_std = density_data['usa_cases_per_pde'].std()\n",
    "\n",
    "def t_value(x1, x2, s1, s2, n1, n2, delta):\n",
    "    numerator = (x1 - x2) - delta\n",
    "    denominator = s1 ** 2 / n1 + s2 ** 2 / n2\n",
    "    return numerator / denominator\n",
    "    \n",
    "dof = 82\n",
    "tvalue = t_value(ind_mean, usa_mean, ind_std, usa_std, 42, 42, 0)\n",
    "pvalue = stats.t.sf(abs(tvalue), df=dof) * 2\n",
    "print(f'Degrees of freedom:    {dof}')\n",
    "print(f'Obtained t statistic:  {tvalue}')\n",
    "print(f'Obtained p value:      {pvalue}')"
   ]
  },
  {
   "cell_type": "markdown",
   "metadata": {},
   "source": [
    "#### Conclusion on the basis of a t-test\n",
    "We can see that $ p_{val} ≈ 0 $ i.e. $ p_{val} << \\alpha $\n",
    "\n",
    "$ \\therefore $ <b>We reject the null hypothesis</b>."
   ]
  },
  {
   "cell_type": "markdown",
   "metadata": {},
   "source": [
    "### Final conclusion\n",
    "For our assumption that normalizing the data using population density reduces the bias of events happening, we have gathered enough evidence that supports our alternate hypothesis i.e $ \\mu_{india} \\not= \\mu_{usa}$.\n",
    "\n",
    "$ \\therefore $ <b>We reject the null hypothesis</b>.\n",
    "\n",
    "And hence, we conclude that on average, the number of `Criterion 1` terror attacks happen in India and United States per year are <b>not</b> equal."
   ]
  }
 ],
 "metadata": {
  "kernelspec": {
   "display_name": "Python 3",
   "language": "python",
   "name": "python3"
  },
  "language_info": {
   "codemirror_mode": {
    "name": "ipython",
    "version": 3
   },
   "file_extension": ".py",
   "mimetype": "text/x-python",
   "name": "python",
   "nbconvert_exporter": "python",
   "pygments_lexer": "ipython3",
   "version": "3.8.5"
  }
 },
 "nbformat": 4,
 "nbformat_minor": 4
}
